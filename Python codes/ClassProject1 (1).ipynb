{
 "cells": [
  {
   "cell_type": "code",
   "execution_count": 2,
   "metadata": {},
   "outputs": [
    {
     "name": "stdout",
     "output_type": "stream",
     "text": [
      "Hello, welcome to the age swapping Wizard! Give me two names please:\n",
      "Name #1= b\n",
      "Name #2= k\n",
      "What is the age of b ?\n",
      "Age #1=10\n",
      "What is the age of k ?\n",
      "Age #2=11\n",
      "b = 10\n",
      "k = 11\n",
      "Tada!\n",
      "b = 11\n",
      "k = 10\n"
     ]
    }
   ],
   "source": [
    "# Python program to swap the ages of two people\n",
    "\n",
    "print(\"Hello, welcome to the age swapping Wizard! Give me two names please:\")\n",
    "\n",
    "# Take name from the user \n",
    "O = input('Name #1= ')\n",
    "T = input('Name #2= ')\n",
    "\n",
    "# Take age from the user \n",
    "print(\"What is the age of\" ,O, \"?\" )\n",
    "o = int(input('Age #1='))\n",
    "print(\"What is the age of\" ,T, \"?\" )\n",
    "t = int(input('Age #2='))\n",
    "\n",
    "print(O,\"=\", o)\n",
    "print(T,\"=\", t)\n",
    "\n",
    "# Switch the ages\n",
    "print(\"Tada!\")\n",
    "print(O,\"=\", t)\n",
    "print(T,\"=\", o)\n"
   ]
  },
  {
   "cell_type": "code",
   "execution_count": null,
   "metadata": {},
   "outputs": [],
   "source": []
  },
  {
   "cell_type": "code",
   "execution_count": null,
   "metadata": {},
   "outputs": [],
   "source": []
  },
  {
   "cell_type": "code",
   "execution_count": null,
   "metadata": {},
   "outputs": [],
   "source": []
  },
  {
   "cell_type": "code",
   "execution_count": null,
   "metadata": {},
   "outputs": [],
   "source": []
  }
 ],
 "metadata": {
  "kernelspec": {
   "display_name": "Python 3",
   "language": "python",
   "name": "python3"
  },
  "language_info": {
   "codemirror_mode": {
    "name": "ipython",
    "version": 3
   },
   "file_extension": ".py",
   "mimetype": "text/x-python",
   "name": "python",
   "nbconvert_exporter": "python",
   "pygments_lexer": "ipython3",
   "version": "3.8.5"
  }
 },
 "nbformat": 4,
 "nbformat_minor": 4
}
